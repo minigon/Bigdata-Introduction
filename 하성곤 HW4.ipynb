{
 "cells": [
  {
   "cell_type": "code",
   "execution_count": 1,
   "metadata": {},
   "outputs": [],
   "source": [
    "from numpy import *\n",
    "from pylab import *\n",
    "from random import *"
   ]
  },
  {
   "cell_type": "code",
   "execution_count": 2,
   "metadata": {},
   "outputs": [
    {
     "name": "stdout",
     "output_type": "stream",
     "text": [
      "Using matplotlib backend: Qt5Agg\n",
      "Populating the interactive namespace from numpy and matplotlib\n"
     ]
    },
    {
     "name": "stderr",
     "output_type": "stream",
     "text": [
      "C:\\Users\\gktjd\\Anaconda3\\lib\\site-packages\\IPython\\core\\magics\\pylab.py:160: UserWarning: pylab import has clobbered these variables: ['power', 'sample', 'shuffle', 'triangular', 'random', 'info', 'seed', 'choice', 'fft', 'uniform', 'randint', 'linalg']\n",
      "`%matplotlib` prevents importing * from pylab and numpy\n",
      "  \"\\n`%matplotlib` prevents importing * from pylab and numpy\"\n"
     ]
    }
   ],
   "source": [
    "%pylab"
   ]
  },
  {
   "cell_type": "code",
   "execution_count": 3,
   "metadata": {},
   "outputs": [],
   "source": [
    "def dist(p,q):\n",
    "    dist = sqrt((p[0]-q[0])**2 + (p[1]-q[1])**2)\n",
    "    return dist"
   ]
  },
  {
   "cell_type": "code",
   "execution_count": 4,
   "metadata": {},
   "outputs": [],
   "source": [
    "N = 34 # total population\n",
    "T = 150\n",
    "day = zeros(T)\n",
    "x = zeros(N); y = zeros(N); vx = zeros(N); vy = zeros(N)\n",
    "s = zeros(N) # status (0-susceptible, 1-infected, 2-recovered)\n",
    "recovery = 25\n",
    "dt = 1\n",
    "speed = 0.01\n",
    "Lx = 0.5; Ly = 0.5\n",
    "distance = 0.03  # within distance, infection occurs\n",
    "R = zeros(N)\n",
    "C = zeros(T)\n",
    "C[0] = 1"
   ]
  },
  {
   "cell_type": "code",
   "execution_count": 5,
   "metadata": {},
   "outputs": [],
   "source": [
    "t = 0\n",
    "\n",
    "Sus = zeros(T); Inf = zeros(T); Rec = zeros(T)\n",
    "Sus[0] = N - C[0]; Inf[0] = C[0]; Rec[0] = 0\n",
    "for p in range(N):  #person number\n",
    "    x[p] = rand()/2\n",
    "    y[p] = rand()/2\n",
    "    theta = 2*pi*rand()\n",
    "    vx[p] = speed * cos(theta)\n",
    "    vy[p] = speed * sin(theta)\n",
    "s[0] = 1; x[0] = 0.25; y[0] = 0.25; R[0] = 1\n",
    "\n",
    "\n",
    "for t in range(1,T):\n",
    "    day[t] = t\n",
    "    for p in range(N):\n",
    "        x[p] = x[p] + dt*vx[p]\n",
    "        y[p] = y[p] + dt*vy[p]\n",
    "        \n",
    "        if x[p] >= 0.45:\n",
    "            vx[p] = -abs(vx[p])\n",
    "        elif x[p] <= 0.05:\n",
    "            vx[p] = abs(vx[p])\n",
    "        if y[p] >= 0.45:\n",
    "            vy[p] = -abs(vy[p])\n",
    "        elif y[p] <= 0.05:\n",
    "            vy[p] = abs(vy[p])\n",
    "            \n",
    "    stmp = zeros(N)\n",
    "    for p in range(N):\n",
    "        stmp[p] = s[p]\n",
    "        \n",
    "    new_infection = 0\n",
    "    for p in range(N):\n",
    "        for q in range(N):\n",
    "            if s[p] == 1 and s[q] == 0:\n",
    "                pc = [x[p],y[p]]\n",
    "                qc = [x[q],y[q]]\n",
    "                tmp = dist(pc,qc)\n",
    "                if tmp <= distance:\n",
    "                    stmp[q] = 1\n",
    "                    new_infection = new_infection + 1\n",
    "    for p in range(N):\n",
    "        s[p] = stmp[p]\n",
    "    # now we add the recovery function\n",
    "    new_recovered = 0\n",
    "    for p in range(N):\n",
    "        if s[p] == 1:\n",
    "            R[p] = R[p] + 1\n",
    "        if s[p] == 1 and R[p] > recovery:\n",
    "            s[p] = 2\n",
    "            new_recovered = new_recovered + 1\n",
    "           \n",
    "    Sus[t] = Sus[t-1] - new_infection\n",
    "    C[t] = C[t-1] + new_infection\n",
    "    Inf[t] = Inf[t-1] + new_infection - new_recovered\n",
    "    Rec[t] = Rec[t-1] + new_recovered\n",
    "    clf()\n",
    "plot(day,Sus,'b-',day,Inf,'-r',day,Rec,'-g',day,C,'-m')\n",
    "xlabel('day')\n",
    "ylabel('S, I, R')\n",
    "title('SIR Model for Epidemics')\n",
    "show()"
   ]
  },
  {
   "cell_type": "code",
   "execution_count": 7,
   "metadata": {},
   "outputs": [
    {
     "name": "stdout",
     "output_type": "stream",
     "text": [
      "-3.0 5.0 32.0 37.0\n"
     ]
    }
   ],
   "source": [
    "print(Sus[149],Inf[149],Rec[149],C[149])"
   ]
  },
  {
   "cell_type": "code",
   "execution_count": null,
   "metadata": {},
   "outputs": [],
   "source": []
  }
 ],
 "metadata": {
  "kernelspec": {
   "display_name": "Python 3",
   "language": "python",
   "name": "python3"
  },
  "language_info": {
   "codemirror_mode": {
    "name": "ipython",
    "version": 3
   },
   "file_extension": ".py",
   "mimetype": "text/x-python",
   "name": "python",
   "nbconvert_exporter": "python",
   "pygments_lexer": "ipython3",
   "version": "3.7.3"
  }
 },
 "nbformat": 4,
 "nbformat_minor": 2
}
