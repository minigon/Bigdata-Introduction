{
 "cells": [
  {
   "cell_type": "code",
   "execution_count": 1,
   "metadata": {},
   "outputs": [],
   "source": [
    "from numpy import*\n",
    "from pylab import *\n",
    "from pandas import *\n",
    "from random import *"
   ]
  },
  {
   "cell_type": "code",
   "execution_count": 258,
   "metadata": {},
   "outputs": [],
   "source": [
    "titan = read_csv('train_no_name.csv')\n",
    "arr = titan.to_numpy()\n",
    "n = len(arr)\n",
    "data = zeros((n,6))\n",
    "for i in range(n):\n",
    "    if arr[i,1] == 1:   #survived\n",
    "        data[i,0] = 1\n",
    "    else:\n",
    "        data[i,0] = -1\n",
    "    data[i,1] = arr[i,2]\n",
    "    if arr[i,4] == 'male':\n",
    "        data[i,2] = -1   # male\n",
    "    else:\n",
    "        data[i,2] = 1    #female\n",
    "    tmp = str(arr[i,5])\n",
    "    if tmp == 'nan':\n",
    "        data[i,3] = 0    #age\n",
    "    else:\n",
    "        data[i,3] = arr[i,5]\n",
    "    data[i,4] = arr[i,6]   #SibSp\n",
    "    data[i,5] = arr[i,7]   #ParCh"
   ]
  },
  {
   "cell_type": "code",
   "execution_count": 259,
   "metadata": {},
   "outputs": [],
   "source": [
    "X = zeros((6,400))  # data matrix\n",
    "Y = zeros(400)\n",
    "for i in range(400):\n",
    "    X[0:5,i] = data[i,1:6]\n",
    "    X[5,i] = 1\n",
    "    Y[i] = data[i,0]"
   ]
  },
  {
   "cell_type": "code",
   "execution_count": 260,
   "metadata": {},
   "outputs": [
    {
     "data": {
      "text/plain": [
       "array([[-1.,  3., -1., 22.,  1.,  0.],\n",
       "       [ 1.,  1.,  1., 38.,  1.,  0.],\n",
       "       [ 1.,  3.,  1., 26.,  0.,  0.],\n",
       "       ...,\n",
       "       [-1.,  3.,  1.,  0.,  1.,  2.],\n",
       "       [ 1.,  1., -1., 26.,  0.,  0.],\n",
       "       [-1.,  3., -1., 32.,  0.,  0.]])"
      ]
     },
     "execution_count": 260,
     "metadata": {},
     "output_type": "execute_result"
    }
   ],
   "source": [
    "data"
   ]
  },
  {
   "cell_type": "code",
   "execution_count": 261,
   "metadata": {},
   "outputs": [],
   "source": [
    "XT = X.transpose()\n",
    "XXT = matmul(X,XT)\n",
    "XY = matmul(X,Y)\n",
    "w = matmul(inv(XXT),XY)"
   ]
  },
  {
   "cell_type": "code",
   "execution_count": 262,
   "metadata": {},
   "outputs": [
    {
     "name": "stdout",
     "output_type": "stream",
     "text": [
      "Accuracy of linear model =  81.75\n"
     ]
    }
   ],
   "source": [
    "xi = ones(6)\n",
    "accuracy = 0\n",
    "tot_number = 0\n",
    "for i in range(400):\n",
    "    tot_number += 1\n",
    "    tmp = str(data[i,3])\n",
    "    if tmp == 'nan':\n",
    "        xi[2] = 0   # unknown age = 0\n",
    "    else:\n",
    "        xi[2] = data[i,3]   # age\n",
    "    xi[0:2] = data[i,1:3]\n",
    "    xi[3:5] = data[i,4:6]\n",
    "    yi = data[i,0]\n",
    "    \n",
    "    yt = matmul(w,xi)\n",
    "    yt = 1/(1+exp(-yt))\n",
    "    if yt >=0.6:\n",
    "        predict = 1\n",
    "    else:\n",
    "        predict = -1\n",
    "    if yi == predict:\n",
    "        accuracy = accuracy + 1\n",
    "        \n",
    "Acc = accuracy/tot_number *100\n",
    "print('Accuracy of linear model = ', Acc)"
   ]
  },
  {
   "cell_type": "code",
   "execution_count": 263,
   "metadata": {},
   "outputs": [],
   "source": [
    "# Result of exact formula. Accuracy is 81.75% while the accuracy of linear classification was 77.19%.\n",
    "# So this performs better than the linear one."
   ]
  },
  {
   "cell_type": "code",
   "execution_count": 264,
   "metadata": {},
   "outputs": [
    {
     "name": "stdout",
     "output_type": "stream",
     "text": [
      "[ 0.0008    0.7804   -0.003616 -0.051     0.1434    0.1752  ]\n"
     ]
    }
   ],
   "source": [
    "wn = w*0 + 0\n",
    "lam = 0.0001\n",
    "err = 1\n",
    "while err >= 0.05:\n",
    "    grad = 0*X[:,0]\n",
    "    wo = wn \n",
    "    for i in range(400):\n",
    "        f = 1/(1+exp(-matmul(wo,X[:,i])))\n",
    "        if f >=0.6:\n",
    "            predict = 1\n",
    "        else:\n",
    "            predict = -1\n",
    "         \n",
    "        grad = grad + (predict-Y[i])*X[:,i]\n",
    "    wn = wo - lam * grad\n",
    "    err = sqrt(sum((wn-wo)**2))\n",
    "print(wn)"
   ]
  },
  {
   "cell_type": "code",
   "execution_count": 265,
   "metadata": {},
   "outputs": [
    {
     "name": "stdout",
     "output_type": "stream",
     "text": [
      "Accuracy of linear model =  81.0\n"
     ]
    }
   ],
   "source": [
    "xi = ones(6)\n",
    "accuracy = 0\n",
    "tot_number = 0\n",
    "for i in range(400):\n",
    "    tot_number += 1\n",
    "    tmp = str(data[i,3])\n",
    "    if tmp == 'nan':\n",
    "        xi[2] = 0   # unknown age = 0\n",
    "    else:\n",
    "        xi[2] = data[i,3]   # age\n",
    "    xi[0:2] = data[i,1:3]\n",
    "    xi[3:5] = data[i,4:6]\n",
    "    yi = data[i,0]\n",
    "    \n",
    "    yt = matmul(wn,xi)\n",
    "    yt = 1/(1+exp(-yt))\n",
    "    if yt >=0.6:\n",
    "        predict = 1\n",
    "    else:\n",
    "        predict = -1\n",
    "    if yi == predict:\n",
    "        accuracy = accuracy + 1\n",
    "        \n",
    "Acc = accuracy/tot_number *100\n",
    "print('Accuracy of linear model = ', Acc)"
   ]
  },
  {
   "cell_type": "code",
   "execution_count": 241,
   "metadata": {},
   "outputs": [],
   "source": [
    "# Result of gradient descent. Accuracy is 81% while the accuracy of linear classification was 79.43%.\n",
    "# So this performs better than the linear one."
   ]
  },
  {
   "cell_type": "code",
   "execution_count": 289,
   "metadata": {},
   "outputs": [
    {
     "name": "stdout",
     "output_type": "stream",
     "text": [
      "Epoch num ========= 999\n",
      "[-3.520e-03  7.720e-03 -1.814e-04 -2.240e-03  1.020e-03  4.164e-01]\n"
     ]
    }
   ],
   "source": [
    "wn = w*0 +0.1\n",
    "lam = 0.00001\n",
    "Epoch_num = 1000\n",
    "for epoch in range(Epoch_num):\n",
    "    for i in range(400):\n",
    "        wx = matmul(wn,X[:,i])\n",
    "        f = 1/(1+exp(-wx))\n",
    "        if f >=0.6:\n",
    "            predict = 1\n",
    "        else:\n",
    "            predict = -1\n",
    "        grad = (predict-Y[i])*X[:,i]\n",
    "        wn = wn - lam * grad\n",
    "print('Epoch num =========', epoch)\n",
    "print(wn)"
   ]
  },
  {
   "cell_type": "code",
   "execution_count": 290,
   "metadata": {},
   "outputs": [
    {
     "name": "stdout",
     "output_type": "stream",
     "text": [
      "Accuracy of linear model =  81.75\n"
     ]
    }
   ],
   "source": [
    "xi = ones(6)\n",
    "accuracy = 0\n",
    "tot_number = 0\n",
    "for i in range(400):\n",
    "    tot_number += 1\n",
    "    tmp = str(data[i,3])\n",
    "    if tmp == 'nan':\n",
    "        xi[2] = 0   # unknown age = 0\n",
    "    else:\n",
    "        xi[2] = data[i,3]   # age\n",
    "    xi[0:2] = data[i,1:3]\n",
    "    xi[3:5] = data[i,4:6]\n",
    "    yi = data[i,0]\n",
    "    \n",
    "    yt = matmul(wn,xi)\n",
    "    yt = 1/(1+exp(-yt))\n",
    "    if yt >=0.6:\n",
    "        predict = 1\n",
    "    else:\n",
    "        predict = -1\n",
    "    if yi == predict:\n",
    "        accuracy = accuracy + 1\n",
    "        \n",
    "Acc = accuracy/tot_number *100\n",
    "print('Accuracy of linear model = ', Acc)"
   ]
  },
  {
   "cell_type": "code",
   "execution_count": 244,
   "metadata": {},
   "outputs": [],
   "source": [
    "# Result of stochastic gradient descent. Accuracy is 81.75% while the accuracy of linear classification was 77.19%.\n",
    "# So this performs better than the linear one."
   ]
  },
  {
   "cell_type": "code",
   "execution_count": 245,
   "metadata": {},
   "outputs": [],
   "source": [
    "from sklearn import svm"
   ]
  },
  {
   "cell_type": "code",
   "execution_count": 255,
   "metadata": {},
   "outputs": [
    {
     "name": "stderr",
     "output_type": "stream",
     "text": [
      "C:\\Users\\gktjd\\Anaconda3\\lib\\site-packages\\sklearn\\svm\\base.py:193: FutureWarning: The default value of gamma will change from 'auto' to 'scale' in version 0.22 to account better for unscaled features. Set gamma explicitly to 'auto' or 'scale' to avoid this warning.\n",
      "  \"avoid this warning.\", FutureWarning)\n"
     ]
    },
    {
     "data": {
      "text/plain": [
       "SVC(C=1.0, cache_size=200, class_weight=None, coef0=0.0,\n",
       "    decision_function_shape='ovo', degree=3, gamma='auto_deprecated',\n",
       "    kernel='rbf', max_iter=-1, probability=False, random_state=None,\n",
       "    shrinking=True, tol=0.001, verbose=False)"
      ]
     },
     "execution_count": 255,
     "metadata": {},
     "output_type": "execute_result"
    }
   ],
   "source": [
    "clf = svm.SVC(decision_function_shape='ovo')\n",
    "clf.fit(transpose(X), Y)"
   ]
  },
  {
   "cell_type": "code",
   "execution_count": 256,
   "metadata": {},
   "outputs": [
    {
     "data": {
      "text/plain": [
       "1.0"
      ]
     },
     "execution_count": 256,
     "metadata": {},
     "output_type": "execute_result"
    }
   ],
   "source": [
    "xi = ones(6)\n",
    "clf.predict([xi])[0]"
   ]
  },
  {
   "cell_type": "code",
   "execution_count": 257,
   "metadata": {},
   "outputs": [
    {
     "name": "stdout",
     "output_type": "stream",
     "text": [
      "Acc 79.63340122199592\n"
     ]
    }
   ],
   "source": [
    "xi = ones(6)\n",
    "accuracy = 0\n",
    "tot_number = 0\n",
    "for i in range(400,n):\n",
    "    tot_number += 1\n",
    "    tmp = str(data[i,3])\n",
    "    if tmp == 'nan':\n",
    "        xi[2] = 0   # unknown age = 0\n",
    "    else:\n",
    "        xi[2] = data[i,3]   # age\n",
    "    xi[0:2] = data[i,1:3]\n",
    "    xi[3:5] = data[i,4:6]\n",
    "    yi = data[i,0]\n",
    "    \n",
    "    predict = clf.predict([xi])[0]\n",
    "    \n",
    "    if yi == predict:\n",
    "        accuracy += 1\n",
    "Acc = accuracy/tot_number * 100\n",
    "print('Acc', Acc)"
   ]
  },
  {
   "cell_type": "code",
   "execution_count": null,
   "metadata": {},
   "outputs": [],
   "source": [
    "# Result of SVM. Accuracy is 79.63% while the accuracy of linear classification was 76.78%.\n",
    "# So this performs better than the linear one.\n",
    "\n",
    "# Survive data of Titanic is a binary data. So it is hard to classify using linear function.\n",
    "# But Logistic function is useful to classify binary data. So the logistic classification performs better than the linear one"
   ]
  }
 ],
 "metadata": {
  "kernelspec": {
   "display_name": "Python 3",
   "language": "python",
   "name": "python3"
  },
  "language_info": {
   "codemirror_mode": {
    "name": "ipython",
    "version": 3
   },
   "file_extension": ".py",
   "mimetype": "text/x-python",
   "name": "python",
   "nbconvert_exporter": "python",
   "pygments_lexer": "ipython3",
   "version": "3.7.3"
  }
 },
 "nbformat": 4,
 "nbformat_minor": 2
}
