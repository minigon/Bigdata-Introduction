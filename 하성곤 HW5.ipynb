{
 "cells": [
  {
   "cell_type": "code",
   "execution_count": 65,
   "metadata": {},
   "outputs": [
    {
     "name": "stdout",
     "output_type": "stream",
     "text": [
      "Using matplotlib backend: Qt5Agg\n",
      "Populating the interactive namespace from numpy and matplotlib\n"
     ]
    }
   ],
   "source": [
    "from numpy import *\n",
    "from pylab import*\n",
    "from random import *\n",
    "%pylab"
   ]
  },
  {
   "cell_type": "code",
   "execution_count": 66,
   "metadata": {},
   "outputs": [],
   "source": [
    "# 2D CA for epidemic data\n",
    "# CA = {D, N, S, f}\n",
    "Nr = 100; Nc = 100; T =150\n",
    "recovery = 7\n",
    "N = Nr * Nc  # total number of cells in my community\n",
    "s = zeros((Nr,Nc))  # status (0 - healthy, 1 - infected, 2 - recovered)\n",
    "R = zeros((Nr,Nc))\n",
    "\n",
    "# social distancing\n",
    "sd = 0.5\n",
    "\n",
    "Sc = zeros(T)\n",
    "Ic = zeros(T)\n",
    "Cc = zeros(T)\n",
    "Rc = zeros(T)\n",
    "\n",
    "for i in range(10):\n",
    "    x = randint(1,Nc-1)\n",
    "    y = randint(1,Nr-1)\n",
    "    s[x,y] = 1\n",
    "    R[x,y] = 1\n",
    "Ic[0] = 10\n",
    "Sc[0] = N - Ic[0]\n",
    "Rc[0] = 0\n",
    "Cc[0] = 10\n",
    "    \n",
    "    \n",
    "D = zeros((Nr,Nc))"
   ]
  },
  {
   "cell_type": "code",
   "execution_count": 67,
   "metadata": {},
   "outputs": [
    {
     "data": {
      "text/plain": [
       "<matplotlib.image.AxesImage at 0x1f4935719e8>"
      ]
     },
     "execution_count": 67,
     "metadata": {},
     "output_type": "execute_result"
    }
   ],
   "source": [
    "imshow(s)"
   ]
  },
  {
   "cell_type": "code",
   "execution_count": 13,
   "metadata": {},
   "outputs": [],
   "source": [
    "for t in range(1,T):\n",
    "    for i in range(Nr):\n",
    "        for j in range(Nc):\n",
    "            D[i,j] = s[i,j]\n",
    "            \n",
    "\n",
    "    new_infection = 0       \n",
    "    for i in range(1,Nc-1):\n",
    "        for j in range(1,Nr-1):\n",
    "# we apply rules for Moore neighbors\n",
    "            if s[i,j] == 0:\n",
    "                num_inf = 0\n",
    "                for n in [s[i-1,j-1], s[i,j-1], s[i+1,j-1], s[i-1,j], s[i+1,j], s[i-1,j+1], s[i,j+1], s[i+1,j+1]]:\n",
    "                    if n == 1:\n",
    "                        num_inf += 1\n",
    "                p = float(num_inf)/4\n",
    "                p = p * sd\n",
    "                tmp = rand()\n",
    "                if tmp <= p :\n",
    "                    D[i,j] = 1\n",
    "                    R[i,j] = 1\n",
    "                    new_infection += 1\n",
    "            if s[i,j] == 1:\n",
    "                R[i,j] += 1\n",
    "                R[i,j] = min(recovery,R[i,j])\n",
    "            if R[i,j] == recovery:\n",
    "                D[i,j] = 2\n",
    "                \n",
    "    Cc[t] = Cc[t-1] + new_infection           \n",
    "    for i in range(Nr):\n",
    "        for j in range(Nc):\n",
    "            s[i,j] = D[i,j]\n",
    "            st = s[i,j]\n",
    "            if st == 0:\n",
    "                Sc[t] += 1\n",
    "            elif st == 1:\n",
    "                Ic[t] += 1\n",
    "            elif st == 2:\n",
    "                Rc[t] += 1\n",
    "                \n",
    "    clf()\n",
    "    imshow(s, vmin = 0, vmax = 2)\n",
    "    pause(0.1)"
   ]
  },
  {
   "cell_type": "code",
   "execution_count": 14,
   "metadata": {},
   "outputs": [
    {
     "name": "stdout",
     "output_type": "stream",
     "text": [
      "9599.0\n"
     ]
    }
   ],
   "source": [
    "print(Cc[149])"
   ]
  },
  {
   "cell_type": "code",
   "execution_count": null,
   "metadata": {},
   "outputs": [],
   "source": [
    "# Moore neighbors 와 von Neumann neighbors의 가장 큰 차이점은 대각선에 있는 사람을 \n",
    "# neighbor라고 결정하는지의 여부이다. Moore 모델은 대각선에 있는 사람도 neighbor라고\n",
    "# 정의하므로 von Nuemann 모델보다 확산속도가 빠르다.\n",
    "#그러나 그 외에 감염확률이나 완치기간등의 parameter는 같으므로 두 모델은 \n",
    "# neighbor의 정의만 다른 거의 비슷한 모델이라고 볼 수 있다."
   ]
  },
  {
   "cell_type": "code",
   "execution_count": 81,
   "metadata": {},
   "outputs": [],
   "source": [
    "sd = 0\n",
    "a = zeros(15)\n",
    "b = zeros(15)\n",
    "for i in range(15):\n",
    "    b[i] = (i+1)*0.05"
   ]
  },
  {
   "cell_type": "code",
   "execution_count": 82,
   "metadata": {},
   "outputs": [],
   "source": [
    "%matplotlib inline"
   ]
  },
  {
   "cell_type": "code",
   "execution_count": 83,
   "metadata": {},
   "outputs": [
    {
     "name": "stdout",
     "output_type": "stream",
     "text": [
      "14.0\n",
      "24.0\n",
      "23.0\n",
      "64.0\n",
      "107.0\n",
      "163.0\n",
      "632.0\n",
      "1040.0\n",
      "4593.0\n",
      "7078.0\n",
      "8559.0\n",
      "9249.0\n",
      "9393.0\n",
      "8930.0\n",
      "9546.0\n"
     ]
    }
   ],
   "source": [
    "for k in range(1,16):\n",
    "    sd = sd + 0.05\n",
    "    # 2D CA for epidemic data\n",
    "    # CA = {D, N, S, f}\n",
    "    Nr = 100; Nc = 100; T =150\n",
    "    recovery = 7\n",
    "    N = Nr * Nc  # total number of cells in my community\n",
    "    s = zeros((Nr,Nc))  # status (0 - healthy, 1 - infected, 2 - recovered)\n",
    "    R = zeros((Nr,Nc))\n",
    "\n",
    "\n",
    "    Sc = zeros(T)\n",
    "    Ic = zeros(T)\n",
    "    Cc = zeros(T)\n",
    "    Rc = zeros(T)\n",
    "\n",
    "    #감염자가 랜덤하게 10명\n",
    "    for i in range(10):\n",
    "        x = randint(1,Nc-1)\n",
    "        y = randint(1,Nr-1)\n",
    "        s[x,y] = 1\n",
    "        R[x,y] = 1\n",
    "    Ic[0] = 10\n",
    "    Sc[0] = N - Ic[0]\n",
    "    Rc[0] = 0\n",
    "    Cc[0] = 10\n",
    "  \n",
    "    D = zeros((Nr,Nc))\n",
    "    for t in range(1,T):\n",
    "        for i in range(Nr):\n",
    "            for j in range(Nc):\n",
    "                D[i,j] = s[i,j]\n",
    "\n",
    "\n",
    "        new_infection = 0       \n",
    "        for i in range(1,Nc-1):\n",
    "            for j in range(1,Nr-1):\n",
    "    # we apply rules for von neumann neighbors\n",
    "                if s[i,j] == 0:\n",
    "                    num_inf = 0\n",
    "                    for n in [s[i-1,j], s[i+1,j], s[i,j+1], s[i,j-1]]:\n",
    "                        if n == 1:\n",
    "                            num_inf += 1\n",
    "                    p = float(num_inf)/4\n",
    "                    p = p * sd\n",
    "                    tmp = rand()\n",
    "                    if tmp <= p :\n",
    "                        D[i,j] = 1\n",
    "                        R[i,j] = 1\n",
    "                        new_infection += 1\n",
    "                if s[i,j] == 1:\n",
    "                    R[i,j] += 1\n",
    "                    R[i,j] = min(recovery,R[i,j])\n",
    "                if R[i,j] == recovery:\n",
    "                    D[i,j] = 2\n",
    "\n",
    "        Cc[t] = Cc[t-1] + new_infection           \n",
    "        for i in range(Nr):\n",
    "            for j in range(Nc):\n",
    "                s[i,j] = D[i,j]\n",
    "                st = s[i,j]\n",
    "                if st == 0:\n",
    "                    Sc[t] += 1\n",
    "                elif st == 1:\n",
    "                    Ic[t] += 1\n",
    "                elif st == 2:\n",
    "                    Rc[t] += 1\n",
    "\n",
    "    print(Cc[149])\n",
    "    a[k-1] = Cc[149]"
   ]
  },
  {
   "cell_type": "code",
   "execution_count": 89,
   "metadata": {},
   "outputs": [
    {
     "data": {
      "text/plain": [
       "Text(0, 0.5, 'cumulative infected population')"
      ]
     },
     "execution_count": 89,
     "metadata": {},
     "output_type": "execute_result"
    },
    {
     "data": {
      "image/png": "[encoded data removed]",
      "text/plain": [
       "<Figure size 432x288 with 1 Axes>"
      ]
     },
     "metadata": {
      "needs_background": "light"
     },
     "output_type": "display_data"
    }
   ],
   "source": [
    "plot(b,a,'ro')\n",
    "xlabel('social distancing')\n",
    "ylabel('cumulative infected population')"
   ]
  },
  {
   "cell_type": "code",
   "execution_count": null,
   "metadata": {},
   "outputs": [],
   "source": [
    "# x축은 social distancing(값이 커질수록 사회적 거리를 적게 둠), y축은 cumulative infected population이다.\n",
    "# 그래프는 social distancing이 0.05로 시작하여 0.05씩 늘어나는 그래프이며, 마지막 값은 0.75이다.\n",
    "#linear하진 않지만 대체적으로 social distancing이 작아질수록-사회적으로 거리를 많이 둘수록- 전체 감염자가 줄어드는 경향을 보인다."
   ]
  },
  {
   "cell_type": "code",
   "execution_count": 87,
   "metadata": {},
   "outputs": [],
   "source": [
    "c = zeros(15)\n",
    "b = zeros(15)\n",
    "for i in range(15):\n",
    "    b[i] = (i+1)*0.05"
   ]
  },
  {
   "cell_type": "code",
   "execution_count": 88,
   "metadata": {},
   "outputs": [
    {
     "name": "stdout",
     "output_type": "stream",
     "text": [
      "2013.0\n",
      "2562.0\n",
      "3862.0\n",
      "4980.0\n",
      "5205.0\n",
      "6052.0\n",
      "6208.0\n",
      "5953.0\n",
      "5929.0\n",
      "6342.0\n",
      "7810.0\n",
      "7214.0\n",
      "7624.0\n",
      "7127.0\n",
      "7980.0\n"
     ]
    }
   ],
   "source": [
    "for k in range(1,16):\n",
    "    sd = 0.5\n",
    "    # 2D CA for epidemic data\n",
    "    # CA = {D, N, S, f}\n",
    "    Nr = 100; Nc = 100; T =150\n",
    "    recovery = 7\n",
    "    N = Nr * Nc  # total number of cells in my community\n",
    "    s = zeros((Nr,Nc))  # status (0 - healthy, 1 - infected, 2 - recovered)\n",
    "    R = zeros((Nr,Nc))\n",
    "\n",
    "\n",
    "    Sc = zeros(T)\n",
    "    Ic = zeros(T)\n",
    "    Cc = zeros(T)\n",
    "    Rc = zeros(T)\n",
    "\n",
    "    \n",
    "    for i in range(k):\n",
    "        x = randint(1,Nc-1)\n",
    "        y = randint(1,Nr-1)\n",
    "        s[x,y] = 1\n",
    "        R[x,y] = 1\n",
    "    Ic[0] = 10\n",
    "    Sc[0] = N - Ic[0]\n",
    "    Rc[0] = 0\n",
    "    Cc[0] = 10\n",
    "  \n",
    "    D = zeros((Nr,Nc))\n",
    "    for t in range(1,T):\n",
    "        for i in range(Nr):\n",
    "            for j in range(Nc):\n",
    "                D[i,j] = s[i,j]\n",
    "\n",
    "\n",
    "        new_infection = 0       \n",
    "        for i in range(1,Nc-1):\n",
    "            for j in range(1,Nr-1):\n",
    "    # we apply rules for von neumann neighbors\n",
    "                if s[i,j] == 0:\n",
    "                    num_inf = 0\n",
    "                    for n in [s[i-1,j], s[i+1,j], s[i,j+1], s[i,j-1]]:\n",
    "                        if n == 1:\n",
    "                            num_inf += 1\n",
    "                    p = float(num_inf)/4\n",
    "                    p = p * sd\n",
    "                    tmp = rand()\n",
    "                    if tmp <= p :\n",
    "                        D[i,j] = 1\n",
    "                        R[i,j] = 1\n",
    "                        new_infection += 1\n",
    "                if s[i,j] == 1:\n",
    "                    R[i,j] += 1\n",
    "                    R[i,j] = min(recovery,R[i,j])\n",
    "                if R[i,j] == recovery:\n",
    "                    D[i,j] = 2\n",
    "\n",
    "        Cc[t] = Cc[t-1] + new_infection           \n",
    "        for i in range(Nr):\n",
    "            for j in range(Nc):\n",
    "                s[i,j] = D[i,j]\n",
    "                st = s[i,j]\n",
    "                if st == 0:\n",
    "                    Sc[t] += 1\n",
    "                elif st == 1:\n",
    "                    Ic[t] += 1\n",
    "                elif st == 2:\n",
    "                    Rc[t] += 1\n",
    "\n",
    "    print(Cc[149])\n",
    "    c[k-1] = Cc[149]"
   ]
  },
  {
   "cell_type": "code",
   "execution_count": 94,
   "metadata": {},
   "outputs": [],
   "source": [
    "d = zeros(15)\n",
    "for i in range(15):\n",
    "    d[i] = i"
   ]
  },
  {
   "cell_type": "code",
   "execution_count": 95,
   "metadata": {},
   "outputs": [
    {
     "data": {
      "text/plain": [
       "Text(0, 0.5, 'cumulative infected population')"
      ]
     },
     "execution_count": 95,
     "metadata": {},
     "output_type": "execute_result"
    },
    {
     "data": {
      "image/png": "[encoded data removed]",
      "text/plain": [
       "<Figure size 432x288 with 1 Axes>"
      ]
     },
     "metadata": {
      "needs_background": "light"
     },
     "output_type": "display_data"
    }
   ],
   "source": [
    "plot(d,c,'ro')\n",
    "xlabel('initial number of infected')\n",
    "ylabel('cumulative infected population')"
   ]
  },
  {
   "cell_type": "code",
   "execution_count": null,
   "metadata": {},
   "outputs": [],
   "source": [
    "# x축은 initial number of infected population, y축은 cumulative infected population이다.\n",
    "# 그래프는 초기 감염자수가 1명으로 시작하여 1명씩 늘어나는 그래프이다. 마지막의 초기 감염자수는 15명이다.\n",
    "# 이또한 linear하진 않지만 대체적으로 초기 감염자수가 많을수록 총 감염자수가 늘어나는 경향을 보인다."
   ]
  }
 ],
 "metadata": {
  "kernelspec": {
   "display_name": "Python 3",
   "language": "python",
   "name": "python3"
  },
  "language_info": {
   "codemirror_mode": {
    "name": "ipython",
    "version": 3
   },
   "file_extension": ".py",
   "mimetype": "text/x-python",
   "name": "python",
   "nbconvert_exporter": "python",
   "pygments_lexer": "ipython3",
   "version": "3.7.3"
  }
 },
 "nbformat": 4,
 "nbformat_minor": 2
}
