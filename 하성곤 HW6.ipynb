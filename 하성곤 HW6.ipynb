{
 "cells": [
  {
   "cell_type": "code",
   "execution_count": 16,
   "metadata": {},
   "outputs": [
    {
     "name": "stdout",
     "output_type": "stream",
     "text": [
      "Using matplotlib backend: Qt5Agg\n",
      "Populating the interactive namespace from numpy and matplotlib\n"
     ]
    },
    {
     "name": "stderr",
     "output_type": "stream",
     "text": [
      "C:\\Users\\gktjd\\Anaconda3\\lib\\site-packages\\IPython\\core\\magics\\pylab.py:160: UserWarning: pylab import has clobbered these variables: ['power', 'fft', 'info', 'random', 'linalg']\n",
      "`%matplotlib` prevents importing * from pylab and numpy\n",
      "  \"\\n`%matplotlib` prevents importing * from pylab and numpy\"\n"
     ]
    }
   ],
   "source": [
    "from numpy import *\n",
    "from random import *\n",
    "from pandas import *\n",
    "from pylab import *\n",
    "%pylab"
   ]
  },
  {
   "cell_type": "code",
   "execution_count": null,
   "metadata": {},
   "outputs": [],
   "source": [
    "# 1번 (a)"
   ]
  },
  {
   "cell_type": "code",
   "execution_count": 12,
   "metadata": {},
   "outputs": [
    {
     "name": "stdout",
     "output_type": "stream",
     "text": [
      "0.0 0.0\n",
      "0.096 48.146784\n",
      "0.408 106.565536\n",
      "0.406 168.777164\n",
      "0.252 252.580496\n"
     ]
    }
   ],
   "source": [
    "Np = 500; Nf = 100; Px = zeros(Np); P = zeros((Np,Nf))\n",
    "for i in range(1,6):\n",
    "    for time in range(0,Nf):\n",
    "        for p in range(0,Np):\n",
    "            R = rand()\n",
    "            if R <= (1-(1/i))/2:\n",
    "                Px[p] += 1\n",
    "            elif R> (1-(1/i))/2 and R<=(1-(1/i)):\n",
    "                Px[p] -= 1\n",
    "            else:\n",
    "                Px[p] = Px[p]\n",
    "        P[:,time] = Px\n",
    "        avePx = mean(Px)\n",
    "        varPx = mean(Px**2) - avePx**2\n",
    "        plot(time, avePx, 'm.')\n",
    "        plot(time, varPx, 'r.')\n",
    "        axis((0,Nf, -300, 300))\n",
    "        pause(0.001)\n",
    "    xlabel('time')\n",
    "    ylabel('Average, Variance')\n",
    "    show()\n",
    "    print(avePx,varPx)"
   ]
  },
  {
   "cell_type": "code",
   "execution_count": null,
   "metadata": {},
   "outputs": [],
   "source": [
    "# 위 출력값은 n이 1,2,3,4,5 일 때 각각 평균과 분산값이다.\n",
    "# 평균은 n에 관계없이 커졌다 작아졌다하며 random한 값을 띄지만\n",
    "# 분산은 n이 커질수록 증가한다. 이는 stay할 확률이 1/n 이기때문에 n이 커질수록 stay할 확률은 적어지고 움직일 확률은 커지기 때문이다.\n",
    "# 따라서 n이 커질수록 분산이 커지는 것은 당연한 결과라 볼 수 있다.\n",
    "# 또한 정해진 n에 대해 시간이 지날수록 평균은 거의 비슷하지만 분산은 계속 증가한다."
   ]
  },
  {
   "cell_type": "code",
   "execution_count": null,
   "metadata": {},
   "outputs": [],
   "source": [
    "#1번 (b)"
   ]
  },
  {
   "cell_type": "code",
   "execution_count": 14,
   "metadata": {},
   "outputs": [
    {
     "name": "stdout",
     "output_type": "stream",
     "text": [
      "26.826 61.791724000000045\n"
     ]
    }
   ],
   "source": [
    "Np = 500; Nf = 100; Px = zeros(Np); P = zeros((Np,Nf))\n",
    "a=0.7\n",
    "b=0.3\n",
    "i=3\n",
    "for time in range(0,Nf):\n",
    "    for p in range(0,Np):\n",
    "        R = rand()\n",
    "        if R <= (1-(1/i))*a:\n",
    "            Px[p] += 1\n",
    "        elif R> (1-(1/i))*a and R<=(1-(1/i)):\n",
    "            Px[p] -= 1\n",
    "        else:\n",
    "            Px[p] = Px[p]\n",
    "    P[:,time] = Px\n",
    "    avePx = mean(Px)\n",
    "    varPx = mean(Px**2) - avePx**2\n",
    "    plot(time, avePx, 'm.')\n",
    "    plot(time, varPx, 'r.')\n",
    "    axis((0,Nf, -300, 300))\n",
    "    pause(0.001)\n",
    "xlabel('time')\n",
    "ylabel('Average, Variance')\n",
    "show()\n",
    "print(avePx,varPx)"
   ]
  },
  {
   "cell_type": "code",
   "execution_count": null,
   "metadata": {},
   "outputs": [],
   "source": [
    "# 위 출력값은 a=0.7, b=0.3, n=3 일 때 평균과 분산값이다.\n",
    "# 시간이 지날수록 평균과 분산이 모두 증가한다. 이는 오른쪽으로 움직일 확률이 왼쪽으로 움직일 확률보다 크기 때문이다.\n",
    "# 오른쪽으로 움직인다는 것은 +값으로 계속 증가한다는 것인데, 따라서 모든 점들이 수직선 위에서 오른쪽으로 치우친다는 것이다.\n",
    "# 따라서 평균은 큰 양수값을 띈다. 만약 왼쪽으로 움직일 확률이 더 크다면 평균은 큰 음수값일 것이다.\n",
    "# 시간에 따라 분산이 커지는 것은 처음엔 모든 점이 0에서 시작해서 모여있지만 시간이 갈 수록 random하게 흩어지므로\n",
    "# 당연히 커질수밖에 없다. 왼쪽으로 갈 확률과 오른쪽으로 갈 확률(alpha, beta)는 분산에는 영향을 거의 안준다.\n",
    "# 분산에 영향을 미치는 값은 n이다."
   ]
  },
  {
   "cell_type": "code",
   "execution_count": 22,
   "metadata": {},
   "outputs": [],
   "source": [
    "#2번\n",
    "stock = read_csv(\"AAPL.csv\")\n",
    "arr = stock.to_numpy()\n",
    "n = len(arr)\n",
    "x = zeros(n)  # stock value with time \n",
    "x_date = []\n",
    "for i in range(n):\n",
    "    x_date.append(arr[i,0])\n",
    "    tmp = arr[i,4]\n",
    "    x[i] = tmp"
   ]
  },
  {
   "cell_type": "code",
   "execution_count": 23,
   "metadata": {},
   "outputs": [],
   "source": [
    "def transact(funds, stocks, qty, price, buy=False, sell=False):\n",
    "    cost = qty * price\n",
    "    if buy == False and sell == False:\n",
    "        pass\n",
    "        return funds, stocks\n",
    "    elif buy == True and sell == True:\n",
    "        pass\n",
    "        return funds, stocks\n",
    "    elif buy == True:\n",
    "        if funds < cost:\n",
    "            pass\n",
    "        else:\n",
    "            funds = funds - cost\n",
    "            stocks += qty\n",
    "        return funds, stocks\n",
    "    elif sell == True:\n",
    "        if stocks < qty:\n",
    "            pass\n",
    "        else:\n",
    "            funds += cost\n",
    "            stocks -= qty\n",
    "        return funds, stocks"
   ]
  },
  {
   "cell_type": "code",
   "execution_count": 56,
   "metadata": {},
   "outputs": [
    {
     "name": "stdout",
     "output_type": "stream",
     "text": [
      "0 71042.83939000002\n",
      "1574 1438\n"
     ]
    }
   ],
   "source": [
    "WinSize = 14\n",
    "percent_number = 5\n",
    "\n",
    "fund = 1000.00\n",
    "cash_balance = fund\n",
    "qty = 10\n",
    "stock_number = 10\n",
    "\n",
    "Buy_num = 0\n",
    "Sell_num = 0\n",
    "index = 0\n",
    "\n",
    "var_p = []\n",
    "var_old = 0.001\n",
    "for i in range(n):\n",
    "    index += 1\n",
    "    C_current = x[i]\n",
    "    \n",
    "    if index >= (WinSize+1) and index < n:\n",
    "        mov_average = sum(x[index-(WinSize+1):index-1])/WinSize\n",
    "        sq_average = sum(x[index-(WinSize+1):index-1]**2)/WinSize\n",
    "        var = sq_average - mov_average**2\n",
    "        var_p.append(var)\n",
    "        pnum1 = abs(var-var_old)/var_old * 100\n",
    "        pnum2 = abs(C_current - mov_average)/mov_average*100  # percent\n",
    "        \n",
    "        if pnum1 > percent_number and pnum2 > percent_number:\n",
    "            buy = False\n",
    "            sell = False\n",
    "            \n",
    "            if var < var_old and mov_average > C_current:\n",
    "                buy = True; Buy_num += 1\n",
    "            if var > var_old and mov_average < C_current:\n",
    "                sell = True; Sell_num += 1\n",
    "                \n",
    "            cash_balance, stock_number = transact(cash_balance, stock_number,qty,C_current,buy,sell)\n",
    "        elif pnum1 > percent_number and pnum2 < percent_number:\n",
    "            buy = False\n",
    "            sell = False\n",
    "            if var < var_old:\n",
    "                buy = True; Buy_num += 1\n",
    "            if var > var_old:\n",
    "                sell = True; Sell_num += 1\n",
    "                \n",
    "            cash_balance, stock_number = transact(cash_balance, stock_number,qty,C_current,buy,sell)\n",
    "        var_old = var\n",
    "        \n",
    "    if index == n:\n",
    "        if stock_number > 0:\n",
    "            price = stock_number*C_current\n",
    "            cash_balance += price\n",
    "            stock_number = 0\n",
    "            \n",
    "print(stock_number, cash_balance)\n",
    "print(Buy_num, Sell_num)"
   ]
  },
  {
   "cell_type": "code",
   "execution_count": null,
   "metadata": {},
   "outputs": [],
   "source": [
    "# 분산법으로 계산한 percent number를 pnum1, 평균법으로 계산한 percent number를 pnum2 로 놓고,\n",
    "# pnum1, pnum2가 둘 다 처음에 정한 percent number보다 클 경우와 pnum1 만 더 크고, pnum2는 더 작은 경우 둘로 나누었다.\n",
    "# 그리고 pnum1, 2 다 둘 다 클 경우엔, 현재 분산이 더 작고 평균이 높을 경우엔 buy, 반대엔 sell을 한다.\n",
    "# 단순히 분산법과 평균법의 buy와 sell의 경우를 합해준 것이다.\n",
    "# pnum1만 크고 pnum2는 작을 경우엔 분산법으로 계산한 buy와 sell 의 경우만 넣어주었다.\n",
    "# 현재 분산이 더 작을 때 사고, 클 때 파는 것이다.\n",
    "# pnum1이 더 작고 pnum2가 더 클 경우도 있지만, 이 경우를 넣으면 cash balance가 더 낮아지기 때문에 이 경우는 제외하였다.\n",
    "# 같은 parameter로 평균법을 사용헀을 땐 cash balance가 6691이었고, 분산법의 경우 14012였는데\n",
    "# 이렇게 두 경우로 나누면 cash balance가 71042로 훨씬 높은 수익을 내는 것을 알 수 있다."
   ]
  },
  {
   "cell_type": "code",
   "execution_count": null,
   "metadata": {},
   "outputs": [],
   "source": []
  }
 ],
 "metadata": {
  "kernelspec": {
   "display_name": "Python 3",
   "language": "python",
   "name": "python3"
  },
  "language_info": {
   "codemirror_mode": {
    "name": "ipython",
    "version": 3
   },
   "file_extension": ".py",
   "mimetype": "text/x-python",
   "name": "python",
   "nbconvert_exporter": "python",
   "pygments_lexer": "ipython3",
   "version": "3.7.3"
  }
 },
 "nbformat": 4,
 "nbformat_minor": 2
}
