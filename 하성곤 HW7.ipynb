{
 "cells": [
  {
   "cell_type": "code",
   "execution_count": 109,
   "metadata": {},
   "outputs": [],
   "source": [
    "from pylab import *\n",
    "from numpy import *\n",
    "from sklearn import svm"
   ]
  },
  {
   "cell_type": "code",
   "execution_count": 110,
   "metadata": {},
   "outputs": [
    {
     "name": "stdout",
     "output_type": "stream",
     "text": [
      "625\n"
     ]
    }
   ],
   "source": [
    "dat = loadtxt('scale.txt')\n",
    "n = len(dat); print(n)\n",
    "X = zeros((4, n))\n",
    "Y = zeros(n)\n",
    "for i in range(n):\n",
    "    Y[i] = dat[i,0]\n",
    "    X[:,i] = dat[i,1:5]"
   ]
  },
  {
   "cell_type": "code",
   "execution_count": 111,
   "metadata": {},
   "outputs": [],
   "source": [
    "XT = X.transpose()\n",
    "XXT = matmul(X,XT)\n",
    "XY = matmul(X,Y)\n",
    "w = matmul(inv(XXT),XY)"
   ]
  },
  {
   "cell_type": "code",
   "execution_count": 112,
   "metadata": {},
   "outputs": [
    {
     "name": "stdout",
     "output_type": "stream",
     "text": [
      "[-0.2792 -0.2792  0.2792  0.2792]\n"
     ]
    }
   ],
   "source": [
    "print(w)"
   ]
  },
  {
   "cell_type": "code",
   "execution_count": 113,
   "metadata": {},
   "outputs": [
    {
     "name": "stdout",
     "output_type": "stream",
     "text": [
      "Accuracy of linear model =  87.2\n"
     ]
    }
   ],
   "source": [
    "# 1. linear model\n",
    "xi = ones(4)\n",
    "accuracy = 0\n",
    "tot_number = 0\n",
    "for i in range(n):\n",
    "    tot_number = tot_number + 1\n",
    "    \n",
    "    xi[:] = dat[i,1:5]\n",
    "    yi = dat[i,0]\n",
    "    \n",
    "    yt = matmul(w,xi)\n",
    "    if yt >0:\n",
    "        predict = 1\n",
    "    elif yt <0:\n",
    "        predict = -1\n",
    "    else:\n",
    "        predict = 0\n",
    "    if yi == predict:\n",
    "        accuracy = accuracy + 1\n",
    "        \n",
    "Acc = accuracy/tot_number *100\n",
    "print('Accuracy of linear model = ', Acc)"
   ]
  },
  {
   "cell_type": "code",
   "execution_count": 114,
   "metadata": {},
   "outputs": [
    {
     "name": "stdout",
     "output_type": "stream",
     "text": [
      "[-0.30433943 -0.27496603  0.28627357  0.28627357]\n"
     ]
    }
   ],
   "source": [
    "# 2. gradient decent method\n",
    "wn = w*0 + 0.1\n",
    "lam = 0.00001\n",
    "err = 10\n",
    "while err >= 0.00005:\n",
    "    grad = 0*X[:,0]\n",
    "    wo = wn\n",
    "    for i in range(400):\n",
    "        grad = grad + (matmul(wo,X[:,i])-Y[i])*X[:,i]\n",
    "    wn = wo - lam*grad\n",
    "    err = sqrt(sum((wn-wo)**2))\n",
    "print(wn)"
   ]
  },
  {
   "cell_type": "code",
   "execution_count": 115,
   "metadata": {},
   "outputs": [
    {
     "name": "stdout",
     "output_type": "stream",
     "text": [
      "Accuracy of gradient decent method =  88.96\n"
     ]
    }
   ],
   "source": [
    "xi = ones(4)\n",
    "accuracy = 0\n",
    "tot_number = 0\n",
    "for i in range(n):\n",
    "    tot_number = tot_number + 1\n",
    "    \n",
    "    xi[:] = dat[i,1:5]\n",
    "    yi = dat[i,0]\n",
    "    \n",
    "    yt = matmul(wn,xi)\n",
    "    if yt >0:\n",
    "        predict = 1\n",
    "    elif yt <0:\n",
    "        predict = -1\n",
    "    else:\n",
    "        predict = 0\n",
    "    if yi == predict:\n",
    "        accuracy = accuracy + 1\n",
    "        \n",
    "Acc = accuracy/tot_number *100\n",
    "print('Accuracy of gradient decent method = ', Acc)"
   ]
  },
  {
   "cell_type": "code",
   "execution_count": 116,
   "metadata": {},
   "outputs": [
    {
     "name": "stdout",
     "output_type": "stream",
     "text": [
      "Epoch num ========= 99\n",
      "[-0.29830546 -0.27264899  0.28053226  0.27651112]\n"
     ]
    }
   ],
   "source": [
    "# 3. stochastic gradient descent \n",
    "wn = w*0 +0.0\n",
    "lam = 0.001\n",
    "Epoch_num = 100\n",
    "for epoch in range(Epoch_num):\n",
    "    for i in range(n):\n",
    "        grad = (matmul(wn,X[:,i])-Y[i])*X[:,i]\n",
    "        wn = wn - lam * grad\n",
    "print('Epoch num =========', epoch)\n",
    "print(wn)"
   ]
  },
  {
   "cell_type": "code",
   "execution_count": 117,
   "metadata": {},
   "outputs": [
    {
     "name": "stdout",
     "output_type": "stream",
     "text": [
      "Accuracy of stochastic gradient descent  =  88.48\n"
     ]
    }
   ],
   "source": [
    "xi = ones(4)\n",
    "accuracy = 0\n",
    "tot_number = 0\n",
    "for i in range(n):\n",
    "    tot_number = tot_number + 1\n",
    "    \n",
    "    xi[:] = dat[i,1:5]\n",
    "    yi = dat[i,0]\n",
    "    \n",
    "    yt = matmul(wn,xi)\n",
    "    if yt >0:\n",
    "        predict = 1\n",
    "    elif yt <0:\n",
    "        predict = -1\n",
    "    else:\n",
    "        predict = 0\n",
    "    if yi == predict:\n",
    "        accuracy = accuracy + 1\n",
    "        \n",
    "Acc = accuracy/tot_number *100\n",
    "print('Accuracy of stochastic gradient descent  = ', Acc)"
   ]
  },
  {
   "cell_type": "code",
   "execution_count": 118,
   "metadata": {},
   "outputs": [
    {
     "data": {
      "text/plain": [
       "SVC(C=1.0, cache_size=200, class_weight=None, coef0=0.0,\n",
       "    decision_function_shape='ovr', degree=3, gamma='auto_deprecated',\n",
       "    kernel='linear', max_iter=-1, probability=False, random_state=None,\n",
       "    shrinking=True, tol=0.001, verbose=False)"
      ]
     },
     "execution_count": 118,
     "metadata": {},
     "output_type": "execute_result"
    }
   ],
   "source": [
    "# 4(1). SVM with linear kernel\n",
    "clf = svm.SVC(kernel = 'linear')\n",
    "clf.fit(transpose(X),Y)"
   ]
  },
  {
   "cell_type": "code",
   "execution_count": 119,
   "metadata": {},
   "outputs": [
    {
     "data": {
      "text/plain": [
       "0.0"
      ]
     },
     "execution_count": 119,
     "metadata": {},
     "output_type": "execute_result"
    }
   ],
   "source": [
    "xi = ones(4)\n",
    "clf.predict([xi])[0]"
   ]
  },
  {
   "cell_type": "code",
   "execution_count": 120,
   "metadata": {},
   "outputs": [
    {
     "name": "stdout",
     "output_type": "stream",
     "text": [
      "Accuracy of SVM with linear  =  91.67999999999999\n"
     ]
    }
   ],
   "source": [
    "xi = ones(4)\n",
    "accuracy = 0\n",
    "tot_number = 0\n",
    "for i in range(n):\n",
    "    tot_number = tot_number + 1\n",
    "    \n",
    "    xi[:] = dat[i,1:5]\n",
    "    yi = dat[i,0]\n",
    "    \n",
    "    predict = clf.predict([xi])[0]\n",
    "    \n",
    "    if yi == predict:\n",
    "        accuracy = accuracy + 1\n",
    "        \n",
    "Acc = accuracy/tot_number *100\n",
    "print('Accuracy of SVM with linear  = ', Acc)"
   ]
  },
  {
   "cell_type": "code",
   "execution_count": 121,
   "metadata": {},
   "outputs": [
    {
     "data": {
      "text/plain": [
       "SVC(C=3, cache_size=200, class_weight=None, coef0=0.0,\n",
       "    decision_function_shape='ovr', degree=3, gamma=0.1, kernel='rbf',\n",
       "    max_iter=-1, probability=False, random_state=None, shrinking=True,\n",
       "    tol=0.001, verbose=False)"
      ]
     },
     "execution_count": 121,
     "metadata": {},
     "output_type": "execute_result"
    }
   ],
   "source": [
    "# 4(2). SVM with rbf kernel\n",
    "clf = svm.SVC(C = 3, kernel = 'rbf', gamma = 0.1)\n",
    "clf.fit(transpose(X),Y)"
   ]
  },
  {
   "cell_type": "code",
   "execution_count": 122,
   "metadata": {},
   "outputs": [
    {
     "data": {
      "text/plain": [
       "0.0"
      ]
     },
     "execution_count": 122,
     "metadata": {},
     "output_type": "execute_result"
    }
   ],
   "source": [
    "xi = ones(4)\n",
    "clf.predict([xi])[0]"
   ]
  },
  {
   "cell_type": "code",
   "execution_count": 123,
   "metadata": {},
   "outputs": [
    {
     "name": "stdout",
     "output_type": "stream",
     "text": [
      "Accuracy of SVM with rbf  =  98.08\n"
     ]
    }
   ],
   "source": [
    "xi = ones(4)\n",
    "accuracy = 0\n",
    "tot_number = 0\n",
    "for i in range(n):\n",
    "    tot_number = tot_number + 1\n",
    "    \n",
    "    xi[:] = dat[i,1:5]\n",
    "    yi = dat[i,0]\n",
    "    \n",
    "    predict = clf.predict([xi])[0]\n",
    "    \n",
    "    if yi == predict:\n",
    "        accuracy = accuracy + 1\n",
    "        \n",
    "Acc = accuracy/tot_number *100\n",
    "print('Accuracy of SVM with rbf  = ', Acc)"
   ]
  },
  {
   "cell_type": "code",
   "execution_count": null,
   "metadata": {},
   "outputs": [],
   "source": []
  }
 ],
 "metadata": {
  "kernelspec": {
   "display_name": "Python 3",
   "language": "python",
   "name": "python3"
  },
  "language_info": {
   "codemirror_mode": {
    "name": "ipython",
    "version": 3
   },
   "file_extension": ".py",
   "mimetype": "text/x-python",
   "name": "python",
   "nbconvert_exporter": "python",
   "pygments_lexer": "ipython3",
   "version": "3.7.3"
  }
 },
 "nbformat": 4,
 "nbformat_minor": 2
}
